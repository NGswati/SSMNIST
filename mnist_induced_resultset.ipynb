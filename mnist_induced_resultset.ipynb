{
 "cells": [
  {
   "cell_type": "code",
   "execution_count": 2,
   "metadata": {},
   "outputs": [
    {
     "name": "stderr",
     "output_type": "stream",
     "text": [
      "/Users/swati/Library/Python/3.9/lib/python/site-packages/urllib3/__init__.py:34: NotOpenSSLWarning: urllib3 v2 only supports OpenSSL 1.1.1+, currently the 'ssl' module is compiled with 'LibreSSL 2.8.3'. See: https://github.com/urllib3/urllib3/issues/3020\n",
      "  warnings.warn(\n"
     ]
    }
   ],
   "source": [
    "from __future__ import print_function\n",
    "import pickle\n",
    "import numpy as np\n",
    "import argparse\n",
    "import torch\n",
    "import torch.nn as nn\n",
    "import torch.nn.functional as F\n",
    "from torch.autograd import Variable"
   ]
  },
  {
   "cell_type": "code",
   "execution_count": 3,
   "metadata": {},
   "outputs": [],
   "source": [
    "parser = argparse.ArgumentParser(description=\"MNIST Parameters\")\n",
    "parser.add_argument(\n",
    "    \"--batch_size\",\n",
    "    type=int,\n",
    "    default=50,\n",
    "    metavar=\"N\",\n",
    "    help=\"input batch size for training (default: 50)\",\n",
    ")\n",
    "parser.add_argument(\n",
    "    \"--epochs\",\n",
    "    type=int,\n",
    "    default=10,\n",
    "    metavar=\"N\",\n",
    "    help=\"number of epochs to train (default: 50)\",\n",
    ")\n",
    "parser.add_argument(\n",
    "    \"--lr\", type=float, default=0.01, metavar=\"LR\", help=\"learning rate (default: 0.01)\"\n",
    ")\n",
    "parser.add_argument(\n",
    "    \"--momentum\",\n",
    "    type=float,\n",
    "    default=0.5,\n",
    "    metavar=\"M\",\n",
    "    help=\"SGD momentum (default:0.5)\",\n",
    ")\n",
    "parser.add_argument(\n",
    "    \"--seed\", type=int, default=1, metavar=\"S\", help=\"random seed (default:1)\"\n",
    ")\n",
    "parser.add_argument(\n",
    "    \"--dropout_rate\",\n",
    "    type=float,\n",
    "    default=0.5,\n",
    "    metavar=\"DO\",\n",
    "    help=\"dropout rate (default: 0.5)\",\n",
    ")\n",
    "parser.add_argument(\n",
    "    \"--output_file\",\n",
    "    type=str,\n",
    "    default=\"output.csv\",\n",
    "    metavar=\"OF\",\n",
    "    help=\"output file (default: output.csv)\",\n",
    ")\n",
    "parser.add_argument(\n",
    "    \"--batch_norm\",\n",
    "    type=int,\n",
    "    default=1,\n",
    "    metavar=\"BN\",\n",
    "    help=\"batch nomralization (default: 1)\",\n",
    ")\n",
    "parser.add_argument(\n",
    "    \"--ada_delta\",\n",
    "    type=int,\n",
    "    default=1,\n",
    "    metavar=\"AD\",\n",
    "    help=\"adaptive learning rate (default: 1)\",\n",
    ")\n",
    "parser.add_argument(\n",
    "    \"--data_aug\",\n",
    "    type=int,\n",
    "    default=1,\n",
    "    metavar=\"DA\",\n",
    "    help=\"data augmentation (default: 1)\",\n",
    ")\n",
    "parser.add_argument(\n",
    "    \"--init_round\",\n",
    "    type=int,\n",
    "    default=15,\n",
    "    metavar=\"IR\",\n",
    "    help=\"initialization round (default: 15)\",\n",
    ")\n",
    "args = parser.parse_known_args()"
   ]
  },
  {
   "cell_type": "code",
   "execution_count": 9,
   "metadata": {},
   "outputs": [],
   "source": [
    "class Net(nn.Module):\n",
    "    def __init__(self):\n",
    "        super(Net, self).__init__()\n",
    "        self.conv1 = nn.Conv2d(1, 50, kernel_size=5, padding=2)\n",
    "        self.conv2 = nn.Conv2d(50, 50, kernel_size=5, padding=2)\n",
    "        self.conv2_drop = nn.Dropout2d(p=args.dropout_rate)\n",
    "        self.batch_norm_1 = nn.BatchNorm2d(1)\n",
    "        self.batch_norm_2 = nn.BatchNorm2d(50)\n",
    "        self.batch_norm_3 = nn.BatchNorm2d(50)\n",
    "        self.fc1 = nn.Linear(7 * 7 * 50, 200)\n",
    "        self.fc2 = nn.Linear(200, 10)\n",
    "\n",
    "    def forward(self, x):\n",
    "        if args.batch_norm:\n",
    "            x = self.batch_norm_1(x)\n",
    "        x = F.relu(F.max_pool2d(self.conv2_drop(self.conv1(x)), 2))\n",
    "        if args.batch_norm:\n",
    "            x = self.batch_norm_2(x)\n",
    "        x = F.relu(F.max_pool2d(self.conv2_drop(self.conv2(x)), 2))\n",
    "        if args.batch_norm:\n",
    "            x = self.batch_norm_3(x)\n",
    "        x = x.view(args.batch_size, -1)\n",
    "        x = F.relu(self.fc1(x))\n",
    "        x = F.dropout(x, training=self.training)\n",
    "        x = F.relu(self.fc2(x))\n",
    "        return F.log_softmax(x)\n"
   ]
  },
  {
   "cell_type": "code",
   "execution_count": null,
   "metadata": {},
   "outputs": [],
   "source": [
    "model = torch.load(\"output.cnn_model\")"
   ]
  },
  {
   "cell_type": "code",
   "execution_count": null,
   "metadata": {},
   "outputs": [],
   "source": [
    "validset = pickle.load(open(\"validation.p\", \"rb\"))\n",
    "valid_loader = torch.utils.data.DataLoader(\n",
    "    validset, batch_size=args.batch_size, shuffle=True, num_workers=2\n",
    ")\n",
    "epoch = 0\n",
    "\n",
    "model.eval()\n",
    "test_loss = 0\n",
    "correct = 0\n",
    "for data, target in valid_loader:\n",
    "    data, target = Variable(data, volatile=True), Variable(target)\n",
    "    output = model(data)\n",
    "    test_loss += F.nll_loss(output, target).data[0]\n",
    "    pred = output.data.max(1)[1]\n",
    "    correct += pred.eq(target.data).cpu().sum()\n",
    "test_loss /= len(valid_loader)"
   ]
  },
  {
   "cell_type": "code",
   "execution_count": null,
   "metadata": {},
   "outputs": [],
   "source": [
    "print(\n",
    "    \"\\nTest set: Average loss: {:.4f}, Accuracy: {}/{} ({:.0f}%)\\n\".format(\n",
    "        test_loss,\n",
    "        correct,\n",
    "        len(valid_loader.dataset),\n",
    "        100.0 * correct / len(valid_loader.dataset),\n",
    "    )\n",
    ")"
   ]
  },
  {
   "cell_type": "code",
   "execution_count": null,
   "metadata": {},
   "outputs": [],
   "source": [
    "f = open(\"output.csv\", \"w\")\n",
    "f.write(\"ID,label\\n\")\n",
    "testset = pickle.load(open(\"test.p\", \"rb\"))\n",
    "testset.train_labels = torch.Tensor(len(testset)).fill_(-1)\n",
    "test_loader = torch.utils.data.DataLoader(\n",
    "    testset, batch_size=args.batch_size, shuffle=False, num_workers=2\n",
    ")\n",
    "model.eval()\n",
    "wrt_idx = 0"
   ]
  },
  {
   "cell_type": "code",
   "execution_count": null,
   "metadata": {},
   "outputs": [],
   "source": [
    "for data, target in test_loader:\n",
    "    data, target = Variable(data, volatile=True), Variable(target)\n",
    "    output = model(data)\n",
    "    pred = output.data.max(1)[1]\n",
    "    for i in range(len(pred)):\n",
    "        f.write(str(wrt_idx))\n",
    "        f.write(\",\")\n",
    "        f.write(str(pred.view(-1)[i]))\n",
    "        f.write(\"\\n\")\n",
    "        wrt_idx += 1\n",
    "f.close()"
   ]
  },
  {
   "cell_type": "code",
   "execution_count": null,
   "metadata": {},
   "outputs": [],
   "source": []
  }
 ],
 "metadata": {
  "kernelspec": {
   "display_name": "Python 3",
   "language": "python",
   "name": "python3"
  },
  "language_info": {
   "codemirror_mode": {
    "name": "ipython",
    "version": 3
   },
   "file_extension": ".py",
   "mimetype": "text/x-python",
   "name": "python",
   "nbconvert_exporter": "python",
   "pygments_lexer": "ipython3",
   "version": "3.9.6"
  }
 },
 "nbformat": 4,
 "nbformat_minor": 2
}
